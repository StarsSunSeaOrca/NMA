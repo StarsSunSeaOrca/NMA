{
  "nbformat": 4,
  "nbformat_minor": 0,
  "metadata": {
    "colab": {
      "provenance": []
    },
    "kernelspec": {
      "name": "python3",
      "display_name": "Python 3"
    },
    "language_info": {
      "name": "python"
    }
  },
  "cells": [
    {
      "cell_type": "code",
      "source": [
        "import numpy as np\n",
        "import pandas as pd\n",
        "import matplotlib.pyplot as plt\n",
        "\n",
        "from scipy.stats import vonmises\n",
        "from scipy.signal import savgol_filter\n",
        "from scipy.optimize import curve_fit"
      ],
      "metadata": {
        "id": "m51tixuu259E"
      },
      "execution_count": null,
      "outputs": []
    },
    {
      "cell_type": "markdown",
      "source": [
        "# Calculating Double-von-Mises Fit Parameters\n"
      ],
      "metadata": {
        "id": "RkfVFiUJ1o0B"
      }
    },
    {
      "cell_type": "code",
      "execution_count": null,
      "metadata": {
        "id": "QHhWlw7w1kfk"
      },
      "outputs": [],
      "source": [
        "def calculate_fit_params(sresp, istim):\n",
        "  \"\"\"\n",
        "  Calculate double-von-mises fit parameters.\n",
        "\n",
        "  Paramters\n",
        "  ---------\n",
        "  sresp : array_like (n_neurons, n_stim)\n",
        "    The neural response for each neuron at each timepoint.\n",
        "  istim : array_like\n",
        "    The angle of the grating in radians at each timepoint;\n",
        "    goes from 0 to 2*np.pi, the orientations shown on each trial.\n",
        "\n",
        "  Returns\n",
        "  -------\n",
        "  params : DataFrame\n",
        "    The fit parameters for each neuron, and the MSE of the fit.\n",
        "  \"\"\"\n",
        "\n",
        "  n_neurons = sresp.shape[0]\n",
        "  params = np.zeros(n_neurons)\n",
        "\n",
        "  for n in range(n_neurons):\n",
        "    # Smooth neural response. (Zhi)\n",
        "    smooth_sresp = smooth_neural_response(sresp)\n",
        "\n",
        "    # Fit von-Mises parameters. (Maria)\n",
        "    A0, A1, mu0, mu1, kappa0, kappa1 = get_von_mises_params(sresp, istim)\n",
        "\n",
        "    # Calculate MSE of fit. (Nadya)\n",
        "    mse = get_MSE(sresp, A0, A1, mu0, mu1, kappa0, kappa1)\n",
        "\n",
        "    param = {\"A0\": A0,\n",
        "            \"A1\": A1,\n",
        "            \"mu0\": mu0,\n",
        "            \"mu1\": mu1,\n",
        "            \"kappa0\": kappa0,\n",
        "            \"kappa1\": kappa1,\n",
        "            \"mse\": mse}\n",
        "    params[n] = param\n",
        "\n",
        "  # Construct DataFrame with fit parameters. (Jack)\n",
        "  params = construct_fit_dataframe(params)\n",
        "\n",
        "  return params\n",
        "\n",
        "batch_size = 1000\n",
        "\n",
        "for i in n_neurons//batch_size:\n",
        "  params = calculate_fit_params(sresp, istim)\n",
        "  params.to_pickle(f\"fitted_params_neurons_{i*batch_size}-{(i+1)*batch_size - 1}.pkl\")"
      ]
    },
    {
      "cell_type": "code",
      "source": [
        "def smooth_neural_response(sresp):\n",
        "  \"\"\"\n",
        "  Smooth neural response using a Savitsky-Savgol filter with a window size of pi/2 radians and polynomial order 2.\n",
        "\n",
        "  Parameters\n",
        "  ----------\n",
        "  sresp : array_like (n_stim)\n",
        "    The neural response for each neuron at each timepoint.\n",
        "\n",
        "  Returns\n",
        "  -------\n",
        "  sresp_smooth : array_like (n_stim)\n",
        "    The smoothed neural response for each neuron at each timepoint.\n",
        "  \"\"\""
      ],
      "metadata": {
        "id": "QsNu9zIp3A9D"
      },
      "execution_count": null,
      "outputs": []
    },
    {
      "cell_type": "code",
      "source": [
        "def get_von_mises_params(sresp, istim):\n",
        "  \"\"\"\n",
        "  Calculate double von-Mises fit parameters.\n",
        "\n",
        "  Parameters\n",
        "  ----------\n",
        "  sresp : array_like (n_stim)\n",
        "    The neural response for each neuron at each timepoint.\n",
        "  istim : array_like\n",
        "    The angle of the grating in radians at each timepoint;\n",
        "    goes from 0 to 2*np.pi, the orientations shown on each trial.\n",
        "\n",
        "  Returns\n",
        "  -------\n",
        "  (A0, A1, mu0, mu1, kappa0, kappa1) : tuple\n",
        "    The fit parameters of a double-von-Mises curve.\n",
        "  \"\"\"\n"
      ],
      "metadata": {
        "id": "zVr0Z4e64xAq"
      },
      "execution_count": null,
      "outputs": []
    },
    {
      "cell_type": "code",
      "source": [
        "def get_MSE(sresp, A0, A1, mu0, mu1, kappa0, kappa1):\n",
        "  \"\"\"\n",
        "  Calculate the mean-squared-error of the fit.\n",
        "\n",
        "  Parameters\n",
        "  -----------\n",
        "  sresp : array_like (n_stim)\n",
        "    The neural response for each neuron at each timepoint.\n",
        "  A0 : float\n",
        "\n",
        "  ...\n",
        "  Returns\n",
        "  -------\n",
        "  MSE : float\n",
        "    The mean squared error of the fit.\n",
        "  \"\"\""
      ],
      "metadata": {
        "id": "v0dnJkqp5rCl"
      },
      "execution_count": null,
      "outputs": []
    },
    {
      "cell_type": "code",
      "source": [
        "def construct_fit_dataframe():\n",
        "  \"\"\"\n",
        "  Construct a DataFrame of the fit parameters for each neuron.\n",
        "\n",
        "  Parameters\n",
        "  ----------\n",
        "\n",
        "  Returns\n",
        "  -------\n",
        "  fit_params : DataFrame\n",
        "    A DataFrame containing the fit parameters, and MSE of the fit, for each neuron.\n",
        "  \"\"\""
      ],
      "metadata": {
        "id": "zFW_N2G76NBN"
      },
      "execution_count": null,
      "outputs": []
    }
  ]
}